{
 "cells": [
  {
   "cell_type": "code",
   "execution_count": 38,
   "metadata": {},
   "outputs": [],
   "source": [
    "#librerias necesarias\n",
    "import pandas as pd\n",
    "import numpy as np\n",
    "from datetime import datetime\n",
    "from sklearn.linear_model import LinearRegression\n",
    "from scipy import stats\n",
    "\n",
    "from sklearn.model_selection import train_test_split\n",
    "from sklearn.preprocessing import PolynomialFeatures, StandardScaler\n",
    "\n",
    "import matplotlib.pyplot as plt\n",
    "from mpl_toolkits import mplot3d\n",
    "%matplotlib inline"
   ]
  },
  {
   "cell_type": "markdown",
   "metadata": {},
   "source": [
    "Cree una copia para su modificación. Esta puede ser descargada para ejecutar en su computador o modificarla desde google colab de acuerdo a su preferencia.\n",
    "$$ $$\n",
    "Utilice toda la información que se encuentra en el conjunto de datos online para los edificios de tipo retail. Es decir, descargue los archivos para los edificios 1 a 5 y a partir de estos cree un solo conjunto de datos (un único dataframe) en su notebook.\n",
    "$$ $$\n",
    "Primero se observa la información de cada cvs."
   ]
  },
  {
   "cell_type": "code",
   "execution_count": 39,
   "metadata": {},
   "outputs": [
    {
     "data": {
      "text/html": [
       "<div>\n",
       "<style scoped>\n",
       "    .dataframe tbody tr th:only-of-type {\n",
       "        vertical-align: middle;\n",
       "    }\n",
       "\n",
       "    .dataframe tbody tr th {\n",
       "        vertical-align: top;\n",
       "    }\n",
       "\n",
       "    .dataframe thead th {\n",
       "        text-align: right;\n",
       "    }\n",
       "</style>\n",
       "<table border=\"1\" class=\"dataframe\">\n",
       "  <thead>\n",
       "    <tr style=\"text-align: right;\">\n",
       "      <th></th>\n",
       "      <th>OAT (F)</th>\n",
       "      <th>Power (kW)</th>\n",
       "    </tr>\n",
       "    <tr>\n",
       "      <th>Timestamp</th>\n",
       "      <th></th>\n",
       "      <th></th>\n",
       "    </tr>\n",
       "  </thead>\n",
       "  <tbody>\n",
       "    <tr>\n",
       "      <td>2010-01-01 01:15:00</td>\n",
       "      <td>51</td>\n",
       "      <td>165.1</td>\n",
       "    </tr>\n",
       "    <tr>\n",
       "      <td>2010-01-01 01:30:00</td>\n",
       "      <td>51</td>\n",
       "      <td>151.6</td>\n",
       "    </tr>\n",
       "    <tr>\n",
       "      <td>2010-01-01 01:45:00</td>\n",
       "      <td>51</td>\n",
       "      <td>146.9</td>\n",
       "    </tr>\n",
       "    <tr>\n",
       "      <td>2010-01-01 02:00:00</td>\n",
       "      <td>51</td>\n",
       "      <td>153.7</td>\n",
       "    </tr>\n",
       "    <tr>\n",
       "      <td>2010-01-01 02:15:00</td>\n",
       "      <td>51</td>\n",
       "      <td>153.8</td>\n",
       "    </tr>\n",
       "    <tr>\n",
       "      <td>...</td>\n",
       "      <td>...</td>\n",
       "      <td>...</td>\n",
       "    </tr>\n",
       "    <tr>\n",
       "      <td>2010-12-30 23:00:00</td>\n",
       "      <td>47</td>\n",
       "      <td>285.8</td>\n",
       "    </tr>\n",
       "    <tr>\n",
       "      <td>2010-12-30 23:15:00</td>\n",
       "      <td>44</td>\n",
       "      <td>206.6</td>\n",
       "    </tr>\n",
       "    <tr>\n",
       "      <td>2010-12-30 23:30:00</td>\n",
       "      <td>44</td>\n",
       "      <td>205.9</td>\n",
       "    </tr>\n",
       "    <tr>\n",
       "      <td>2010-12-30 23:45:00</td>\n",
       "      <td>44</td>\n",
       "      <td>189.4</td>\n",
       "    </tr>\n",
       "    <tr>\n",
       "      <td>2010-12-31 00:00:00</td>\n",
       "      <td>44</td>\n",
       "      <td>177.9</td>\n",
       "    </tr>\n",
       "  </tbody>\n",
       "</table>\n",
       "<p>34940 rows × 2 columns</p>\n",
       "</div>"
      ],
      "text/plain": [
       "                     OAT (F)  Power (kW)\n",
       "Timestamp                               \n",
       "2010-01-01 01:15:00       51       165.1\n",
       "2010-01-01 01:30:00       51       151.6\n",
       "2010-01-01 01:45:00       51       146.9\n",
       "2010-01-01 02:00:00       51       153.7\n",
       "2010-01-01 02:15:00       51       153.8\n",
       "...                      ...         ...\n",
       "2010-12-30 23:00:00       47       285.8\n",
       "2010-12-30 23:15:00       44       206.6\n",
       "2010-12-30 23:30:00       44       205.9\n",
       "2010-12-30 23:45:00       44       189.4\n",
       "2010-12-31 00:00:00       44       177.9\n",
       "\n",
       "[34940 rows x 2 columns]"
      ]
     },
     "execution_count": 39,
     "metadata": {},
     "output_type": "execute_result"
    }
   ],
   "source": [
    "#edicio 1.\n",
    "df1 = pd.read_csv('building1retail.csv', index_col=[0], parse_dates=True)\n",
    "df1"
   ]
  },
  {
   "cell_type": "code",
   "execution_count": 40,
   "metadata": {},
   "outputs": [
    {
     "data": {
      "text/html": [
       "<div>\n",
       "<style scoped>\n",
       "    .dataframe tbody tr th:only-of-type {\n",
       "        vertical-align: middle;\n",
       "    }\n",
       "\n",
       "    .dataframe tbody tr th {\n",
       "        vertical-align: top;\n",
       "    }\n",
       "\n",
       "    .dataframe thead th {\n",
       "        text-align: right;\n",
       "    }\n",
       "</style>\n",
       "<table border=\"1\" class=\"dataframe\">\n",
       "  <thead>\n",
       "    <tr style=\"text-align: right;\">\n",
       "      <th></th>\n",
       "      <th>OAT (F)</th>\n",
       "      <th>Power (kW)</th>\n",
       "    </tr>\n",
       "    <tr>\n",
       "      <th>Timestamp</th>\n",
       "      <th></th>\n",
       "      <th></th>\n",
       "    </tr>\n",
       "  </thead>\n",
       "  <tbody>\n",
       "    <tr>\n",
       "      <td>2010-01-01 01:15:00</td>\n",
       "      <td>54</td>\n",
       "      <td>149.7</td>\n",
       "    </tr>\n",
       "    <tr>\n",
       "      <td>2010-01-01 01:30:00</td>\n",
       "      <td>54</td>\n",
       "      <td>150.4</td>\n",
       "    </tr>\n",
       "    <tr>\n",
       "      <td>2010-01-01 01:45:00</td>\n",
       "      <td>54</td>\n",
       "      <td>147.0</td>\n",
       "    </tr>\n",
       "    <tr>\n",
       "      <td>2010-01-01 02:00:00</td>\n",
       "      <td>54</td>\n",
       "      <td>147.1</td>\n",
       "    </tr>\n",
       "    <tr>\n",
       "      <td>2010-01-01 02:15:00</td>\n",
       "      <td>53</td>\n",
       "      <td>145.6</td>\n",
       "    </tr>\n",
       "    <tr>\n",
       "      <td>...</td>\n",
       "      <td>...</td>\n",
       "      <td>...</td>\n",
       "    </tr>\n",
       "    <tr>\n",
       "      <td>2010-12-30 23:00:00</td>\n",
       "      <td>48</td>\n",
       "      <td>287.3</td>\n",
       "    </tr>\n",
       "    <tr>\n",
       "      <td>2010-12-30 23:15:00</td>\n",
       "      <td>47</td>\n",
       "      <td>195.7</td>\n",
       "    </tr>\n",
       "    <tr>\n",
       "      <td>2010-12-30 23:30:00</td>\n",
       "      <td>47</td>\n",
       "      <td>188.0</td>\n",
       "    </tr>\n",
       "    <tr>\n",
       "      <td>2010-12-30 23:45:00</td>\n",
       "      <td>47</td>\n",
       "      <td>163.3</td>\n",
       "    </tr>\n",
       "    <tr>\n",
       "      <td>2010-12-31 00:00:00</td>\n",
       "      <td>47</td>\n",
       "      <td>169.1</td>\n",
       "    </tr>\n",
       "  </tbody>\n",
       "</table>\n",
       "<p>34940 rows × 2 columns</p>\n",
       "</div>"
      ],
      "text/plain": [
       "                     OAT (F)  Power (kW)\n",
       "Timestamp                               \n",
       "2010-01-01 01:15:00       54       149.7\n",
       "2010-01-01 01:30:00       54       150.4\n",
       "2010-01-01 01:45:00       54       147.0\n",
       "2010-01-01 02:00:00       54       147.1\n",
       "2010-01-01 02:15:00       53       145.6\n",
       "...                      ...         ...\n",
       "2010-12-30 23:00:00       48       287.3\n",
       "2010-12-30 23:15:00       47       195.7\n",
       "2010-12-30 23:30:00       47       188.0\n",
       "2010-12-30 23:45:00       47       163.3\n",
       "2010-12-31 00:00:00       47       169.1\n",
       "\n",
       "[34940 rows x 2 columns]"
      ]
     },
     "execution_count": 40,
     "metadata": {},
     "output_type": "execute_result"
    }
   ],
   "source": [
    "#edicio 2.\n",
    "df2 = pd.read_csv('building2retail.csv', index_col=[0], parse_dates=True)\n",
    "df2"
   ]
  },
  {
   "cell_type": "code",
   "execution_count": 41,
   "metadata": {},
   "outputs": [
    {
     "data": {
      "text/html": [
       "<div>\n",
       "<style scoped>\n",
       "    .dataframe tbody tr th:only-of-type {\n",
       "        vertical-align: middle;\n",
       "    }\n",
       "\n",
       "    .dataframe tbody tr th {\n",
       "        vertical-align: top;\n",
       "    }\n",
       "\n",
       "    .dataframe thead th {\n",
       "        text-align: right;\n",
       "    }\n",
       "</style>\n",
       "<table border=\"1\" class=\"dataframe\">\n",
       "  <thead>\n",
       "    <tr style=\"text-align: right;\">\n",
       "      <th></th>\n",
       "      <th>OAT (F)</th>\n",
       "      <th>Power (kW)</th>\n",
       "    </tr>\n",
       "    <tr>\n",
       "      <th>Timestamp</th>\n",
       "      <th></th>\n",
       "      <th></th>\n",
       "    </tr>\n",
       "  </thead>\n",
       "  <tbody>\n",
       "    <tr>\n",
       "      <td>2010-01-01 01:15:00</td>\n",
       "      <td>36</td>\n",
       "      <td>69.2</td>\n",
       "    </tr>\n",
       "    <tr>\n",
       "      <td>2010-01-01 01:30:00</td>\n",
       "      <td>36</td>\n",
       "      <td>70.3</td>\n",
       "    </tr>\n",
       "    <tr>\n",
       "      <td>2010-01-01 01:45:00</td>\n",
       "      <td>36</td>\n",
       "      <td>112.2</td>\n",
       "    </tr>\n",
       "    <tr>\n",
       "      <td>2010-01-01 02:00:00</td>\n",
       "      <td>36</td>\n",
       "      <td>112.8</td>\n",
       "    </tr>\n",
       "    <tr>\n",
       "      <td>2010-01-01 02:15:00</td>\n",
       "      <td>36</td>\n",
       "      <td>114.0</td>\n",
       "    </tr>\n",
       "    <tr>\n",
       "      <td>...</td>\n",
       "      <td>...</td>\n",
       "      <td>...</td>\n",
       "    </tr>\n",
       "    <tr>\n",
       "      <td>2010-12-30 23:00:00</td>\n",
       "      <td>37</td>\n",
       "      <td>266.1</td>\n",
       "    </tr>\n",
       "    <tr>\n",
       "      <td>2010-12-30 23:15:00</td>\n",
       "      <td>35</td>\n",
       "      <td>233.8</td>\n",
       "    </tr>\n",
       "    <tr>\n",
       "      <td>2010-12-30 23:30:00</td>\n",
       "      <td>35</td>\n",
       "      <td>232.2</td>\n",
       "    </tr>\n",
       "    <tr>\n",
       "      <td>2010-12-30 23:45:00</td>\n",
       "      <td>35</td>\n",
       "      <td>192.4</td>\n",
       "    </tr>\n",
       "    <tr>\n",
       "      <td>2010-12-31 00:00:00</td>\n",
       "      <td>35</td>\n",
       "      <td>194.7</td>\n",
       "    </tr>\n",
       "  </tbody>\n",
       "</table>\n",
       "<p>34940 rows × 2 columns</p>\n",
       "</div>"
      ],
      "text/plain": [
       "                     OAT (F)  Power (kW)\n",
       "Timestamp                               \n",
       "2010-01-01 01:15:00       36        69.2\n",
       "2010-01-01 01:30:00       36        70.3\n",
       "2010-01-01 01:45:00       36       112.2\n",
       "2010-01-01 02:00:00       36       112.8\n",
       "2010-01-01 02:15:00       36       114.0\n",
       "...                      ...         ...\n",
       "2010-12-30 23:00:00       37       266.1\n",
       "2010-12-30 23:15:00       35       233.8\n",
       "2010-12-30 23:30:00       35       232.2\n",
       "2010-12-30 23:45:00       35       192.4\n",
       "2010-12-31 00:00:00       35       194.7\n",
       "\n",
       "[34940 rows x 2 columns]"
      ]
     },
     "execution_count": 41,
     "metadata": {},
     "output_type": "execute_result"
    }
   ],
   "source": [
    "#edicio 3.\n",
    "df3 = pd.read_csv('building3retail.csv', index_col=[0], parse_dates=True)\n",
    "df3"
   ]
  },
  {
   "cell_type": "code",
   "execution_count": 42,
   "metadata": {},
   "outputs": [
    {
     "data": {
      "text/html": [
       "<div>\n",
       "<style scoped>\n",
       "    .dataframe tbody tr th:only-of-type {\n",
       "        vertical-align: middle;\n",
       "    }\n",
       "\n",
       "    .dataframe tbody tr th {\n",
       "        vertical-align: top;\n",
       "    }\n",
       "\n",
       "    .dataframe thead th {\n",
       "        text-align: right;\n",
       "    }\n",
       "</style>\n",
       "<table border=\"1\" class=\"dataframe\">\n",
       "  <thead>\n",
       "    <tr style=\"text-align: right;\">\n",
       "      <th></th>\n",
       "      <th>OAT (F)</th>\n",
       "      <th>Power (kW)</th>\n",
       "    </tr>\n",
       "    <tr>\n",
       "      <th>Timestamp</th>\n",
       "      <th></th>\n",
       "      <th></th>\n",
       "    </tr>\n",
       "  </thead>\n",
       "  <tbody>\n",
       "    <tr>\n",
       "      <td>2010-01-01 01:15:00</td>\n",
       "      <td>10</td>\n",
       "      <td>147.2</td>\n",
       "    </tr>\n",
       "    <tr>\n",
       "      <td>2010-01-01 01:30:00</td>\n",
       "      <td>10</td>\n",
       "      <td>147.1</td>\n",
       "    </tr>\n",
       "    <tr>\n",
       "      <td>2010-01-01 01:45:00</td>\n",
       "      <td>10</td>\n",
       "      <td>148.9</td>\n",
       "    </tr>\n",
       "    <tr>\n",
       "      <td>2010-01-01 02:00:00</td>\n",
       "      <td>10</td>\n",
       "      <td>143.3</td>\n",
       "    </tr>\n",
       "    <tr>\n",
       "      <td>2010-01-01 02:15:00</td>\n",
       "      <td>9</td>\n",
       "      <td>143.3</td>\n",
       "    </tr>\n",
       "    <tr>\n",
       "      <td>...</td>\n",
       "      <td>...</td>\n",
       "      <td>...</td>\n",
       "    </tr>\n",
       "    <tr>\n",
       "      <td>2010-12-30 23:00:00</td>\n",
       "      <td>48</td>\n",
       "      <td>165.1</td>\n",
       "    </tr>\n",
       "    <tr>\n",
       "      <td>2010-12-30 23:15:00</td>\n",
       "      <td>48</td>\n",
       "      <td>157.6</td>\n",
       "    </tr>\n",
       "    <tr>\n",
       "      <td>2010-12-30 23:30:00</td>\n",
       "      <td>48</td>\n",
       "      <td>166.8</td>\n",
       "    </tr>\n",
       "    <tr>\n",
       "      <td>2010-12-30 23:45:00</td>\n",
       "      <td>48</td>\n",
       "      <td>164.0</td>\n",
       "    </tr>\n",
       "    <tr>\n",
       "      <td>2010-12-31 00:00:00</td>\n",
       "      <td>48</td>\n",
       "      <td>158.4</td>\n",
       "    </tr>\n",
       "  </tbody>\n",
       "</table>\n",
       "<p>34940 rows × 2 columns</p>\n",
       "</div>"
      ],
      "text/plain": [
       "                     OAT (F)  Power (kW)\n",
       "Timestamp                               \n",
       "2010-01-01 01:15:00       10       147.2\n",
       "2010-01-01 01:30:00       10       147.1\n",
       "2010-01-01 01:45:00       10       148.9\n",
       "2010-01-01 02:00:00       10       143.3\n",
       "2010-01-01 02:15:00        9       143.3\n",
       "...                      ...         ...\n",
       "2010-12-30 23:00:00       48       165.1\n",
       "2010-12-30 23:15:00       48       157.6\n",
       "2010-12-30 23:30:00       48       166.8\n",
       "2010-12-30 23:45:00       48       164.0\n",
       "2010-12-31 00:00:00       48       158.4\n",
       "\n",
       "[34940 rows x 2 columns]"
      ]
     },
     "execution_count": 42,
     "metadata": {},
     "output_type": "execute_result"
    }
   ],
   "source": [
    "#edicio 4.\n",
    "df4 = pd.read_csv('building4retail.csv', index_col=[0], parse_dates=True)\n",
    "df4"
   ]
  },
  {
   "cell_type": "code",
   "execution_count": 43,
   "metadata": {},
   "outputs": [
    {
     "data": {
      "text/html": [
       "<div>\n",
       "<style scoped>\n",
       "    .dataframe tbody tr th:only-of-type {\n",
       "        vertical-align: middle;\n",
       "    }\n",
       "\n",
       "    .dataframe tbody tr th {\n",
       "        vertical-align: top;\n",
       "    }\n",
       "\n",
       "    .dataframe thead th {\n",
       "        text-align: right;\n",
       "    }\n",
       "</style>\n",
       "<table border=\"1\" class=\"dataframe\">\n",
       "  <thead>\n",
       "    <tr style=\"text-align: right;\">\n",
       "      <th></th>\n",
       "      <th>OAT (F)</th>\n",
       "      <th>Power (kW)</th>\n",
       "    </tr>\n",
       "    <tr>\n",
       "      <th>Timestamp</th>\n",
       "      <th></th>\n",
       "      <th></th>\n",
       "    </tr>\n",
       "  </thead>\n",
       "  <tbody>\n",
       "    <tr>\n",
       "      <td>2010-01-01 01:15:00</td>\n",
       "      <td>67</td>\n",
       "      <td>162.6</td>\n",
       "    </tr>\n",
       "    <tr>\n",
       "      <td>2010-01-01 01:30:00</td>\n",
       "      <td>67</td>\n",
       "      <td>156.5</td>\n",
       "    </tr>\n",
       "    <tr>\n",
       "      <td>2010-01-01 01:45:00</td>\n",
       "      <td>67</td>\n",
       "      <td>157.2</td>\n",
       "    </tr>\n",
       "    <tr>\n",
       "      <td>2010-01-01 02:00:00</td>\n",
       "      <td>67</td>\n",
       "      <td>151.0</td>\n",
       "    </tr>\n",
       "    <tr>\n",
       "      <td>2010-01-01 02:15:00</td>\n",
       "      <td>63</td>\n",
       "      <td>160.5</td>\n",
       "    </tr>\n",
       "    <tr>\n",
       "      <td>...</td>\n",
       "      <td>...</td>\n",
       "      <td>...</td>\n",
       "    </tr>\n",
       "    <tr>\n",
       "      <td>2010-12-30 23:00:00</td>\n",
       "      <td>67</td>\n",
       "      <td>333.7</td>\n",
       "    </tr>\n",
       "    <tr>\n",
       "      <td>2010-12-30 23:15:00</td>\n",
       "      <td>68</td>\n",
       "      <td>221.0</td>\n",
       "    </tr>\n",
       "    <tr>\n",
       "      <td>2010-12-30 23:30:00</td>\n",
       "      <td>68</td>\n",
       "      <td>235.7</td>\n",
       "    </tr>\n",
       "    <tr>\n",
       "      <td>2010-12-30 23:45:00</td>\n",
       "      <td>68</td>\n",
       "      <td>227.2</td>\n",
       "    </tr>\n",
       "    <tr>\n",
       "      <td>2010-12-31 00:00:00</td>\n",
       "      <td>68</td>\n",
       "      <td>234.5</td>\n",
       "    </tr>\n",
       "  </tbody>\n",
       "</table>\n",
       "<p>34940 rows × 2 columns</p>\n",
       "</div>"
      ],
      "text/plain": [
       "                     OAT (F)  Power (kW)\n",
       "Timestamp                               \n",
       "2010-01-01 01:15:00       67       162.6\n",
       "2010-01-01 01:30:00       67       156.5\n",
       "2010-01-01 01:45:00       67       157.2\n",
       "2010-01-01 02:00:00       67       151.0\n",
       "2010-01-01 02:15:00       63       160.5\n",
       "...                      ...         ...\n",
       "2010-12-30 23:00:00       67       333.7\n",
       "2010-12-30 23:15:00       68       221.0\n",
       "2010-12-30 23:30:00       68       235.7\n",
       "2010-12-30 23:45:00       68       227.2\n",
       "2010-12-31 00:00:00       68       234.5\n",
       "\n",
       "[34940 rows x 2 columns]"
      ]
     },
     "execution_count": 43,
     "metadata": {},
     "output_type": "execute_result"
    }
   ],
   "source": [
    "#edicio 5.\n",
    "df5 = pd.read_csv('building5retail.csv', index_col=[0], parse_dates=True)\n",
    "df5"
   ]
  },
  {
   "cell_type": "code",
   "execution_count": 44,
   "metadata": {},
   "outputs": [],
   "source": [
    "#se seleccionan las caracteristicas deseadas de cada dadaframe\n",
    "values1 = df1[['OAT (F)','Power (kW)']]\n",
    "values2 = df2[['OAT (F)','Power (kW)']]\n",
    "values3 = df3[['OAT (F)','Power (kW)']]\n",
    "values4 = df4[['OAT (F)','Power (kW)']]\n",
    "values5 = df5[['OAT (F)','Power (kW)']]"
   ]
  },
  {
   "cell_type": "code",
   "execution_count": 45,
   "metadata": {},
   "outputs": [
    {
     "data": {
      "text/html": [
       "<div>\n",
       "<style scoped>\n",
       "    .dataframe tbody tr th:only-of-type {\n",
       "        vertical-align: middle;\n",
       "    }\n",
       "\n",
       "    .dataframe tbody tr th {\n",
       "        vertical-align: top;\n",
       "    }\n",
       "\n",
       "    .dataframe thead th {\n",
       "        text-align: right;\n",
       "    }\n",
       "</style>\n",
       "<table border=\"1\" class=\"dataframe\">\n",
       "  <thead>\n",
       "    <tr style=\"text-align: right;\">\n",
       "      <th></th>\n",
       "      <th>OAT (F)</th>\n",
       "      <th>Power (kW)</th>\n",
       "    </tr>\n",
       "    <tr>\n",
       "      <th>Timestamp</th>\n",
       "      <th></th>\n",
       "      <th></th>\n",
       "    </tr>\n",
       "  </thead>\n",
       "  <tbody>\n",
       "    <tr>\n",
       "      <td>2010-01-01 01:15:00</td>\n",
       "      <td>51</td>\n",
       "      <td>165.1</td>\n",
       "    </tr>\n",
       "    <tr>\n",
       "      <td>2010-01-01 01:30:00</td>\n",
       "      <td>51</td>\n",
       "      <td>151.6</td>\n",
       "    </tr>\n",
       "    <tr>\n",
       "      <td>2010-01-01 01:45:00</td>\n",
       "      <td>51</td>\n",
       "      <td>146.9</td>\n",
       "    </tr>\n",
       "    <tr>\n",
       "      <td>2010-01-01 02:00:00</td>\n",
       "      <td>51</td>\n",
       "      <td>153.7</td>\n",
       "    </tr>\n",
       "    <tr>\n",
       "      <td>2010-01-01 02:15:00</td>\n",
       "      <td>51</td>\n",
       "      <td>153.8</td>\n",
       "    </tr>\n",
       "    <tr>\n",
       "      <td>...</td>\n",
       "      <td>...</td>\n",
       "      <td>...</td>\n",
       "    </tr>\n",
       "    <tr>\n",
       "      <td>2010-12-30 23:00:00</td>\n",
       "      <td>67</td>\n",
       "      <td>333.7</td>\n",
       "    </tr>\n",
       "    <tr>\n",
       "      <td>2010-12-30 23:15:00</td>\n",
       "      <td>68</td>\n",
       "      <td>221.0</td>\n",
       "    </tr>\n",
       "    <tr>\n",
       "      <td>2010-12-30 23:30:00</td>\n",
       "      <td>68</td>\n",
       "      <td>235.7</td>\n",
       "    </tr>\n",
       "    <tr>\n",
       "      <td>2010-12-30 23:45:00</td>\n",
       "      <td>68</td>\n",
       "      <td>227.2</td>\n",
       "    </tr>\n",
       "    <tr>\n",
       "      <td>2010-12-31 00:00:00</td>\n",
       "      <td>68</td>\n",
       "      <td>234.5</td>\n",
       "    </tr>\n",
       "  </tbody>\n",
       "</table>\n",
       "<p>174700 rows × 2 columns</p>\n",
       "</div>"
      ],
      "text/plain": [
       "                     OAT (F)  Power (kW)\n",
       "Timestamp                               \n",
       "2010-01-01 01:15:00       51       165.1\n",
       "2010-01-01 01:30:00       51       151.6\n",
       "2010-01-01 01:45:00       51       146.9\n",
       "2010-01-01 02:00:00       51       153.7\n",
       "2010-01-01 02:15:00       51       153.8\n",
       "...                      ...         ...\n",
       "2010-12-30 23:00:00       67       333.7\n",
       "2010-12-30 23:15:00       68       221.0\n",
       "2010-12-30 23:30:00       68       235.7\n",
       "2010-12-30 23:45:00       68       227.2\n",
       "2010-12-31 00:00:00       68       234.5\n",
       "\n",
       "[174700 rows x 2 columns]"
      ]
     },
     "execution_count": 45,
     "metadata": {},
     "output_type": "execute_result"
    }
   ],
   "source": [
    "#se concatenan todas las caracteristicas en un solo dataframe\n",
    "values = [values1, values2, values3, values4, values5]\n",
    "\n",
    "df = pd.concat(values)\n",
    "\n",
    "df"
   ]
  },
  {
   "cell_type": "markdown",
   "metadata": {},
   "source": [
    "Realice un análisis exploratorio de los datos similar al hecho en clase. Es posible extenderlo si lo considera necesario.\n",
    "\n",
    "## Análisis exploratorio"
   ]
  },
  {
   "cell_type": "code",
   "execution_count": 46,
   "metadata": {},
   "outputs": [
    {
     "data": {
      "image/png": "[encoded data removed]",
      "text/plain": [
       "<Figure size 720x1440 with 1 Axes>"
      ]
     },
     "metadata": {
      "needs_background": "light"
     },
     "output_type": "display_data"
    }
   ],
   "source": [
    "#graficar datos\n",
    "df.plot(figsize= (10,20));"
   ]
  },
  {
   "cell_type": "code",
   "execution_count": 47,
   "metadata": {},
   "outputs": [
    {
     "data": {
      "text/plain": [
       "False"
      ]
     },
     "execution_count": 47,
     "metadata": {},
     "output_type": "execute_result"
    }
   ],
   "source": [
    "#isnull muestra datos false \n",
    "#values forma matriz con los elementos\n",
    "#any muestra si alguno false\n",
    "df.isnull().values.any()\n",
    "#como la salida es false, no hay valores faltantes"
   ]
  },
  {
   "cell_type": "markdown",
   "metadata": {},
   "source": [
    "Para ver el comportamiento de los datos, realizamos un histograma de los datos"
   ]
  },
  {
   "cell_type": "code",
   "execution_count": 48,
   "metadata": {},
   "outputs": [
    {
     "data": {
      "image/png": "[encoded data removed]",
      "text/plain": [
       "<Figure size 432x288 with 2 Axes>"
      ]
     },
     "metadata": {
      "needs_background": "light"
     },
     "output_type": "display_data"
    },
    {
     "data": {
      "image/png": "[encoded data removed]",
      "text/plain": [
       "<Figure size 720x1440 with 1 Axes>"
      ]
     },
     "metadata": {
      "needs_background": "light"
     },
     "output_type": "display_data"
    }
   ],
   "source": [
    "df.hist()\n",
    "df.plot(kind = 'box', figsize = (10,20));"
   ]
  },
  {
   "cell_type": "markdown",
   "metadata": {},
   "source": [
    "Limpiar los datos, regla de las tres desviaciones estandar $(\\sigma)$ ya que si un dato se encuentra de las tres desviaciones estandar, se considera error."
   ]
  },
  {
   "cell_type": "code",
   "execution_count": 49,
   "metadata": {},
   "outputs": [
    {
     "data": {
      "text/html": [
       "<div>\n",
       "<style scoped>\n",
       "    .dataframe tbody tr th:only-of-type {\n",
       "        vertical-align: middle;\n",
       "    }\n",
       "\n",
       "    .dataframe tbody tr th {\n",
       "        vertical-align: top;\n",
       "    }\n",
       "\n",
       "    .dataframe thead th {\n",
       "        text-align: right;\n",
       "    }\n",
       "</style>\n",
       "<table border=\"1\" class=\"dataframe\">\n",
       "  <thead>\n",
       "    <tr style=\"text-align: right;\">\n",
       "      <th></th>\n",
       "      <th>OAT (F)</th>\n",
       "      <th>Power (kW)</th>\n",
       "    </tr>\n",
       "    <tr>\n",
       "      <th>Timestamp</th>\n",
       "      <th></th>\n",
       "      <th></th>\n",
       "    </tr>\n",
       "  </thead>\n",
       "  <tbody>\n",
       "    <tr>\n",
       "      <td>2010-01-01 01:15:00</td>\n",
       "      <td>51</td>\n",
       "      <td>165.1</td>\n",
       "    </tr>\n",
       "    <tr>\n",
       "      <td>2010-01-01 01:30:00</td>\n",
       "      <td>51</td>\n",
       "      <td>151.6</td>\n",
       "    </tr>\n",
       "    <tr>\n",
       "      <td>2010-01-01 01:45:00</td>\n",
       "      <td>51</td>\n",
       "      <td>146.9</td>\n",
       "    </tr>\n",
       "    <tr>\n",
       "      <td>2010-01-01 02:00:00</td>\n",
       "      <td>51</td>\n",
       "      <td>153.7</td>\n",
       "    </tr>\n",
       "    <tr>\n",
       "      <td>2010-01-01 02:15:00</td>\n",
       "      <td>51</td>\n",
       "      <td>153.8</td>\n",
       "    </tr>\n",
       "    <tr>\n",
       "      <td>...</td>\n",
       "      <td>...</td>\n",
       "      <td>...</td>\n",
       "    </tr>\n",
       "    <tr>\n",
       "      <td>2010-12-30 23:00:00</td>\n",
       "      <td>67</td>\n",
       "      <td>333.7</td>\n",
       "    </tr>\n",
       "    <tr>\n",
       "      <td>2010-12-30 23:15:00</td>\n",
       "      <td>68</td>\n",
       "      <td>221.0</td>\n",
       "    </tr>\n",
       "    <tr>\n",
       "      <td>2010-12-30 23:30:00</td>\n",
       "      <td>68</td>\n",
       "      <td>235.7</td>\n",
       "    </tr>\n",
       "    <tr>\n",
       "      <td>2010-12-30 23:45:00</td>\n",
       "      <td>68</td>\n",
       "      <td>227.2</td>\n",
       "    </tr>\n",
       "    <tr>\n",
       "      <td>2010-12-31 00:00:00</td>\n",
       "      <td>68</td>\n",
       "      <td>234.5</td>\n",
       "    </tr>\n",
       "  </tbody>\n",
       "</table>\n",
       "<p>146523 rows × 2 columns</p>\n",
       "</div>"
      ],
      "text/plain": [
       "                     OAT (F)  Power (kW)\n",
       "Timestamp                               \n",
       "2010-01-01 01:15:00       51       165.1\n",
       "2010-01-01 01:30:00       51       151.6\n",
       "2010-01-01 01:45:00       51       146.9\n",
       "2010-01-01 02:00:00       51       153.7\n",
       "2010-01-01 02:15:00       51       153.8\n",
       "...                      ...         ...\n",
       "2010-12-30 23:00:00       67       333.7\n",
       "2010-12-30 23:15:00       68       221.0\n",
       "2010-12-30 23:30:00       68       235.7\n",
       "2010-12-30 23:45:00       68       227.2\n",
       "2010-12-31 00:00:00       68       234.5\n",
       "\n",
       "[146523 rows x 2 columns]"
      ]
     },
     "execution_count": 49,
     "metadata": {},
     "output_type": "execute_result"
    }
   ],
   "source": [
    "std_dev = 1\n",
    "outliers = (np.abs(stats.zscore(df)) < std_dev).any(axis=1)\n",
    "df_limpio = df[ outliers]\n",
    "df_limpio"
   ]
  },
  {
   "cell_type": "code",
   "execution_count": 50,
   "metadata": {},
   "outputs": [
    {
     "data": {
      "image/png": "[encoded data removed]",
      "text/plain": [
       "<Figure size 720x1440 with 1 Axes>"
      ]
     },
     "metadata": {
      "needs_background": "light"
     },
     "output_type": "display_data"
    }
   ],
   "source": [
    "#graficamos los datos limpios\n",
    "df_limpio.plot(figsize=(10,20));"
   ]
  },
  {
   "cell_type": "markdown",
   "metadata": {},
   "source": [
    "Despues de hacer la limpieza, se valida la relación entre los datos"
   ]
  },
  {
   "cell_type": "code",
   "execution_count": 51,
   "metadata": {},
   "outputs": [
    {
     "data": {
      "image/png": "[encoded data removed]",
      "text/plain": [
       "<Figure size 432x288 with 1 Axes>"
      ]
     },
     "metadata": {
      "needs_background": "light"
     },
     "output_type": "display_data"
    }
   ],
   "source": [
    "plt.scatter(df_limpio['OAT (F)'], df_limpio['Power (kW)']);"
   ]
  },
  {
   "cell_type": "markdown",
   "metadata": {},
   "source": [
    "Se grafican la temperatura y la potencia para ciertos días partículares"
   ]
  },
  {
   "cell_type": "code",
   "execution_count": 52,
   "metadata": {},
   "outputs": [
    {
     "data": {
      "text/plain": [
       "<matplotlib.axes._subplots.AxesSubplot at 0x7fa5df340910>"
      ]
     },
     "execution_count": 52,
     "metadata": {},
     "output_type": "execute_result"
    },
    {
     "data": {
      "image/png": "[encoded data removed]",
      "text/plain": [
       "<Figure size 432x288 with 1 Axes>"
      ]
     },
     "metadata": {
      "needs_background": "light"
     },
     "output_type": "display_data"
    }
   ],
   "source": [
    "fig, ax = plt.subplots()\n",
    "df.loc['2010-12-24', ['OAT (F)']].plot(ax=ax)\n",
    "df.loc['2010-12-25', ['OAT (F)']].plot(ax=ax)\n",
    "df.loc['2010-12-26', ['OAT (F)']].plot(ax=ax)\n",
    "df.loc['2010-12-27', ['OAT (F)']].plot(ax=ax)"
   ]
  },
  {
   "cell_type": "code",
   "execution_count": 53,
   "metadata": {},
   "outputs": [
    {
     "data": {
      "text/plain": [
       "<matplotlib.axes._subplots.AxesSubplot at 0x7fa5e00259d0>"
      ]
     },
     "execution_count": 53,
     "metadata": {},
     "output_type": "execute_result"
    },
    {
     "data": {
      "image/png": "[encoded data removed]",
      "text/plain": [
       "<Figure size 432x288 with 1 Axes>"
      ]
     },
     "metadata": {
      "needs_background": "light"
     },
     "output_type": "display_data"
    }
   ],
   "source": [
    "fig, ax = plt.subplots()\n",
    "df.loc['2010-12-24', ['Power (kW)']].plot(ax=ax)\n",
    "df.loc['2010-12-25', ['Power (kW)']].plot(ax=ax)\n",
    "df.loc['2010-12-26', ['Power (kW)']].plot(ax=ax)\n",
    "df.loc['2010-12-27', ['Power (kW)']].plot(ax=ax)"
   ]
  },
  {
   "cell_type": "markdown",
   "metadata": {},
   "source": [
    "## Regresión lineal"
   ]
  },
  {
   "cell_type": "code",
   "execution_count": 54,
   "metadata": {},
   "outputs": [
    {
     "data": {
      "text/plain": [
       "LinearRegression(copy_X=True, fit_intercept=True, n_jobs=None, normalize=False)"
      ]
     },
     "execution_count": 54,
     "metadata": {},
     "output_type": "execute_result"
    }
   ],
   "source": [
    "#conjunto de variables dependientes y y conjunto de variables independientes X\n",
    "X = pd.DataFrame(df['OAT (F)'])\n",
    "y = pd.DataFrame(df['Power (kW)'])\n",
    "\n",
    "#llama el atrivuto de la clase\n",
    "linear_regresion = LinearRegression()\n",
    "linear_regresion.fit(X, y)"
   ]
  },
  {
   "cell_type": "code",
   "execution_count": 55,
   "metadata": {},
   "outputs": [
    {
     "name": "stdout",
     "output_type": "stream",
     "text": [
      "El intercepto es:  [109.47619451] El coeficiente es:  [[2.7912211]]\n"
     ]
    }
   ],
   "source": [
    "#se halla el coeficiente y el intercepto\n",
    "m = linear_regresion.coef_\n",
    "b = linear_regresion.intercept_\n",
    "\n",
    "print('El intercepto es: ', b, 'El coeficiente es: ', m)"
   ]
  },
  {
   "cell_type": "code",
   "execution_count": 57,
   "metadata": {},
   "outputs": [
    {
     "data": {
      "image/png": "[encoded data removed]",
      "text/plain": [
       "<Figure size 432x288 with 1 Axes>"
      ]
     },
     "metadata": {
      "needs_background": "light"
     },
     "output_type": "display_data"
    }
   ],
   "source": [
    "#se define y se grafica la recta predicha\n",
    "y_pred = m * X + b\n",
    "\n",
    "plt.plot(X.values.flatten(), y.values.flatten(),'o', label = 'real')\n",
    "plt.plot(X.values.flatten(), y_pred, '-', label = 'predicho',);\n",
    "plt.title('Predicción contra realidad')\n",
    "plt.legend();"
   ]
  },
  {
   "cell_type": "code",
   "execution_count": 58,
   "metadata": {},
   "outputs": [
    {
     "name": "stdout",
     "output_type": "stream",
     "text": [
      "El puntaje R^2 es: 0.25780546714496055\n"
     ]
    }
   ],
   "source": [
    "print('El puntaje R^2 es:', linear_regresion.score(X, y))"
   ]
  },
  {
   "cell_type": "markdown",
   "metadata": {},
   "source": [
    "Entrenemos el modelo para mejorar la predicción"
   ]
  },
  {
   "cell_type": "code",
   "execution_count": 59,
   "metadata": {},
   "outputs": [
    {
     "name": "stdout",
     "output_type": "stream",
     "text": [
      "El puntaje R^2 es: 0.2517947537402493\n"
     ]
    }
   ],
   "source": [
    "#se hace lo mismo pero ahora con librería \n",
    "X_train, X_test, y_train, y_test = train_test_split(X, y, test_size = 0.2, random_state = 42)\n",
    "\n",
    "#llama el atrivuto de la clase\n",
    "linear_regresion = LinearRegression()\n",
    "linear_regresion.fit(X_train, y_train)\n",
    "\n",
    "r2_1 = linear_regresion.score(X_test, y_test)\n",
    "print('El puntaje R^2 es:', r2_1)"
   ]
  },
  {
   "cell_type": "markdown",
   "metadata": {},
   "source": [
    "Normalicemos los datos como una forma de limpiar los datos para ver si así podemos subir el puntaje $R^2$. Para ello, usamos la librería de sklearn.preprocessing StandardScaler"
   ]
  },
  {
   "cell_type": "code",
   "execution_count": 60,
   "metadata": {},
   "outputs": [],
   "source": [
    "#se normalizan todos los datos para que uno no domine sobre otro\n",
    "sc_X = StandardScaler()\n",
    "\n",
    "X_trainN = sc_X.fit_transform(X_train) \n",
    "X_testN = sc_X.fit_transform(X_test) \n",
    "\n",
    "sc_y =StandardScaler()\n",
    "\n",
    "y_trainN = sc_y.fit_transform(y_train) \n",
    "y_testN = sc_y.fit_transform(y_test) \n"
   ]
  },
  {
   "cell_type": "code",
   "execution_count": 61,
   "metadata": {},
   "outputs": [
    {
     "name": "stdout",
     "output_type": "stream",
     "text": [
      "El puntaje R^2 es: 0.2518321808668823\n"
     ]
    }
   ],
   "source": [
    "#se hace el mismo analisis pero con datos normalizados\n",
    "#llama el atrivuto de la clase\n",
    "linear_regresion = LinearRegression()\n",
    "linear_regresion.fit(X_trainN, y_trainN)\n",
    "\n",
    "r2_1 = linear_regresion.score(X_testN, y_testN)\n",
    "print('El puntaje R^2 es:', r2_1)"
   ]
  },
  {
   "cell_type": "markdown",
   "metadata": {},
   "source": [
    "## Agregar predictores "
   ]
  },
  {
   "cell_type": "code",
   "execution_count": 63,
   "metadata": {},
   "outputs": [
    {
     "data": {
      "text/html": [
       "<div>\n",
       "<style scoped>\n",
       "    .dataframe tbody tr th:only-of-type {\n",
       "        vertical-align: middle;\n",
       "    }\n",
       "\n",
       "    .dataframe tbody tr th {\n",
       "        vertical-align: top;\n",
       "    }\n",
       "\n",
       "    .dataframe thead th {\n",
       "        text-align: right;\n",
       "    }\n",
       "</style>\n",
       "<table border=\"1\" class=\"dataframe\">\n",
       "  <thead>\n",
       "    <tr style=\"text-align: right;\">\n",
       "      <th></th>\n",
       "      <th>OAT (F)</th>\n",
       "      <th>Power (kW)</th>\n",
       "      <th>hour</th>\n",
       "    </tr>\n",
       "    <tr>\n",
       "      <th>Timestamp</th>\n",
       "      <th></th>\n",
       "      <th></th>\n",
       "      <th></th>\n",
       "    </tr>\n",
       "  </thead>\n",
       "  <tbody>\n",
       "    <tr>\n",
       "      <td>2010-01-01 01:15:00</td>\n",
       "      <td>51</td>\n",
       "      <td>165.1</td>\n",
       "      <td>1</td>\n",
       "    </tr>\n",
       "    <tr>\n",
       "      <td>2010-01-01 01:30:00</td>\n",
       "      <td>51</td>\n",
       "      <td>151.6</td>\n",
       "      <td>1</td>\n",
       "    </tr>\n",
       "    <tr>\n",
       "      <td>2010-01-01 01:45:00</td>\n",
       "      <td>51</td>\n",
       "      <td>146.9</td>\n",
       "      <td>1</td>\n",
       "    </tr>\n",
       "    <tr>\n",
       "      <td>2010-01-01 02:00:00</td>\n",
       "      <td>51</td>\n",
       "      <td>153.7</td>\n",
       "      <td>2</td>\n",
       "    </tr>\n",
       "    <tr>\n",
       "      <td>2010-01-01 02:15:00</td>\n",
       "      <td>51</td>\n",
       "      <td>153.8</td>\n",
       "      <td>2</td>\n",
       "    </tr>\n",
       "    <tr>\n",
       "      <td>...</td>\n",
       "      <td>...</td>\n",
       "      <td>...</td>\n",
       "      <td>...</td>\n",
       "    </tr>\n",
       "    <tr>\n",
       "      <td>2010-12-30 23:00:00</td>\n",
       "      <td>67</td>\n",
       "      <td>333.7</td>\n",
       "      <td>23</td>\n",
       "    </tr>\n",
       "    <tr>\n",
       "      <td>2010-12-30 23:15:00</td>\n",
       "      <td>68</td>\n",
       "      <td>221.0</td>\n",
       "      <td>23</td>\n",
       "    </tr>\n",
       "    <tr>\n",
       "      <td>2010-12-30 23:30:00</td>\n",
       "      <td>68</td>\n",
       "      <td>235.7</td>\n",
       "      <td>23</td>\n",
       "    </tr>\n",
       "    <tr>\n",
       "      <td>2010-12-30 23:45:00</td>\n",
       "      <td>68</td>\n",
       "      <td>227.2</td>\n",
       "      <td>23</td>\n",
       "    </tr>\n",
       "    <tr>\n",
       "      <td>2010-12-31 00:00:00</td>\n",
       "      <td>68</td>\n",
       "      <td>234.5</td>\n",
       "      <td>0</td>\n",
       "    </tr>\n",
       "  </tbody>\n",
       "</table>\n",
       "<p>174700 rows × 3 columns</p>\n",
       "</div>"
      ],
      "text/plain": [
       "                     OAT (F)  Power (kW)  hour\n",
       "Timestamp                                     \n",
       "2010-01-01 01:15:00       51       165.1     1\n",
       "2010-01-01 01:30:00       51       151.6     1\n",
       "2010-01-01 01:45:00       51       146.9     1\n",
       "2010-01-01 02:00:00       51       153.7     2\n",
       "2010-01-01 02:15:00       51       153.8     2\n",
       "...                      ...         ...   ...\n",
       "2010-12-30 23:00:00       67       333.7    23\n",
       "2010-12-30 23:15:00       68       221.0    23\n",
       "2010-12-30 23:30:00       68       235.7    23\n",
       "2010-12-30 23:45:00       68       227.2    23\n",
       "2010-12-31 00:00:00       68       234.5     0\n",
       "\n",
       "[174700 rows x 3 columns]"
      ]
     },
     "execution_count": 63,
     "metadata": {},
     "output_type": "execute_result"
    }
   ],
   "source": [
    "#agregando la hora \n",
    "df['hour'] = df.index.hour\n",
    "df"
   ]
  },
  {
   "cell_type": "code",
   "execution_count": 64,
   "metadata": {},
   "outputs": [
    {
     "name": "stdout",
     "output_type": "stream",
     "text": [
      "El puntaje R^2 con adción de una caracteristica es: 0.47090244247892143\n"
     ]
    }
   ],
   "source": [
    "#regresion lineal agregando un predictor de hora\n",
    "X = pd.DataFrame(df[['OAT (F)','hour']])\n",
    "y = pd.DataFrame(df['Power (kW)'])\n",
    "\n",
    "X_train, X_test, y_train, y_test = train_test_split(X, y, test_size = 0.2, random_state = 42)\n",
    "\n",
    "linear_regresion = LinearRegression()\n",
    "linear_regresion.fit(X_train, y_train)\n",
    "\n",
    "r2_2 = linear_regresion.score(X_test, y_test)\n",
    "\n",
    "print('El puntaje R^2 con adción de una caracteristica es:', r2_2)"
   ]
  },
  {
   "cell_type": "code",
   "execution_count": 65,
   "metadata": {},
   "outputs": [
    {
     "name": "stdout",
     "output_type": "stream",
     "text": [
      "El puntaje R^2 es: 0.47091386925329765\n"
     ]
    }
   ],
   "source": [
    "#se normalizan todos los datos\n",
    "sc_X = StandardScaler()\n",
    "\n",
    "X_trainN = sc_X.fit_transform(X_train) \n",
    "X_testN = sc_X.fit_transform(X_test) \n",
    "\n",
    "sc_y =StandardScaler()\n",
    "\n",
    "y_trainN = sc_y.fit_transform(y_train) \n",
    "y_testN = sc_y.fit_transform(y_test) \n",
    "\n",
    "#se hace el mismo analisis pero con datos normalizados\n",
    "#llama el atrivuto de la clase\n",
    "linear_regresion = LinearRegression()\n",
    "linear_regresion.fit(X_trainN, y_trainN)\n",
    "\n",
    "r2_1 = linear_regresion.score(X_testN, y_testN)\n",
    "print('El puntaje R^2 es:', r2_1)\n",
    "#se observa que normalizar los datos no es buena estrategia, no se seguirá haciendo"
   ]
  },
  {
   "cell_type": "markdown",
   "metadata": {},
   "source": [
    "Creamos una caracteristica que sea cuando las personas del edicio retail estan trabajando, adicionamos dos horarios, 8-12 y 14-18"
   ]
  },
  {
   "cell_type": "code",
   "execution_count": 66,
   "metadata": {},
   "outputs": [],
   "source": [
    "#horario de la mañana\n",
    "df['hour_open1'] = np.where((df.index.hour >=8) & (df.index.hour <12),1,0)"
   ]
  },
  {
   "cell_type": "code",
   "execution_count": 67,
   "metadata": {},
   "outputs": [
    {
     "data": {
      "text/html": [
       "<div>\n",
       "<style scoped>\n",
       "    .dataframe tbody tr th:only-of-type {\n",
       "        vertical-align: middle;\n",
       "    }\n",
       "\n",
       "    .dataframe tbody tr th {\n",
       "        vertical-align: top;\n",
       "    }\n",
       "\n",
       "    .dataframe thead th {\n",
       "        text-align: right;\n",
       "    }\n",
       "</style>\n",
       "<table border=\"1\" class=\"dataframe\">\n",
       "  <thead>\n",
       "    <tr style=\"text-align: right;\">\n",
       "      <th></th>\n",
       "      <th>OAT (F)</th>\n",
       "      <th>Power (kW)</th>\n",
       "      <th>hour</th>\n",
       "      <th>hour_open1</th>\n",
       "    </tr>\n",
       "    <tr>\n",
       "      <th>Timestamp</th>\n",
       "      <th></th>\n",
       "      <th></th>\n",
       "      <th></th>\n",
       "      <th></th>\n",
       "    </tr>\n",
       "  </thead>\n",
       "  <tbody>\n",
       "    <tr>\n",
       "      <td>2010-01-01 01:15:00</td>\n",
       "      <td>51</td>\n",
       "      <td>165.1</td>\n",
       "      <td>1</td>\n",
       "      <td>0</td>\n",
       "    </tr>\n",
       "    <tr>\n",
       "      <td>2010-01-01 01:30:00</td>\n",
       "      <td>51</td>\n",
       "      <td>151.6</td>\n",
       "      <td>1</td>\n",
       "      <td>0</td>\n",
       "    </tr>\n",
       "    <tr>\n",
       "      <td>2010-01-01 01:45:00</td>\n",
       "      <td>51</td>\n",
       "      <td>146.9</td>\n",
       "      <td>1</td>\n",
       "      <td>0</td>\n",
       "    </tr>\n",
       "    <tr>\n",
       "      <td>2010-01-01 02:00:00</td>\n",
       "      <td>51</td>\n",
       "      <td>153.7</td>\n",
       "      <td>2</td>\n",
       "      <td>0</td>\n",
       "    </tr>\n",
       "    <tr>\n",
       "      <td>2010-01-01 02:15:00</td>\n",
       "      <td>51</td>\n",
       "      <td>153.8</td>\n",
       "      <td>2</td>\n",
       "      <td>0</td>\n",
       "    </tr>\n",
       "    <tr>\n",
       "      <td>...</td>\n",
       "      <td>...</td>\n",
       "      <td>...</td>\n",
       "      <td>...</td>\n",
       "      <td>...</td>\n",
       "    </tr>\n",
       "    <tr>\n",
       "      <td>2010-12-30 23:00:00</td>\n",
       "      <td>67</td>\n",
       "      <td>333.7</td>\n",
       "      <td>23</td>\n",
       "      <td>0</td>\n",
       "    </tr>\n",
       "    <tr>\n",
       "      <td>2010-12-30 23:15:00</td>\n",
       "      <td>68</td>\n",
       "      <td>221.0</td>\n",
       "      <td>23</td>\n",
       "      <td>0</td>\n",
       "    </tr>\n",
       "    <tr>\n",
       "      <td>2010-12-30 23:30:00</td>\n",
       "      <td>68</td>\n",
       "      <td>235.7</td>\n",
       "      <td>23</td>\n",
       "      <td>0</td>\n",
       "    </tr>\n",
       "    <tr>\n",
       "      <td>2010-12-30 23:45:00</td>\n",
       "      <td>68</td>\n",
       "      <td>227.2</td>\n",
       "      <td>23</td>\n",
       "      <td>0</td>\n",
       "    </tr>\n",
       "    <tr>\n",
       "      <td>2010-12-31 00:00:00</td>\n",
       "      <td>68</td>\n",
       "      <td>234.5</td>\n",
       "      <td>0</td>\n",
       "      <td>0</td>\n",
       "    </tr>\n",
       "  </tbody>\n",
       "</table>\n",
       "<p>174700 rows × 4 columns</p>\n",
       "</div>"
      ],
      "text/plain": [
       "                     OAT (F)  Power (kW)  hour  hour_open1\n",
       "Timestamp                                                 \n",
       "2010-01-01 01:15:00       51       165.1     1           0\n",
       "2010-01-01 01:30:00       51       151.6     1           0\n",
       "2010-01-01 01:45:00       51       146.9     1           0\n",
       "2010-01-01 02:00:00       51       153.7     2           0\n",
       "2010-01-01 02:15:00       51       153.8     2           0\n",
       "...                      ...         ...   ...         ...\n",
       "2010-12-30 23:00:00       67       333.7    23           0\n",
       "2010-12-30 23:15:00       68       221.0    23           0\n",
       "2010-12-30 23:30:00       68       235.7    23           0\n",
       "2010-12-30 23:45:00       68       227.2    23           0\n",
       "2010-12-31 00:00:00       68       234.5     0           0\n",
       "\n",
       "[174700 rows x 4 columns]"
      ]
     },
     "execution_count": 67,
     "metadata": {},
     "output_type": "execute_result"
    }
   ],
   "source": [
    "df"
   ]
  },
  {
   "cell_type": "code",
   "execution_count": 68,
   "metadata": {},
   "outputs": [
    {
     "name": "stdout",
     "output_type": "stream",
     "text": [
      "El puntaje R^2 con adción de una caracteristica es: 0.5015852859722939\n"
     ]
    }
   ],
   "source": [
    "#regresion lineal agregando dos predictores \n",
    "X = pd.DataFrame(df[['OAT (F)','hour', 'hour_open1']])\n",
    "y = pd.DataFrame(df['Power (kW)'])\n",
    "\n",
    "X_train, X_test, y_train, y_test = train_test_split(X, y, test_size = 0.2, random_state = 42)\n",
    "\n",
    "linear_regresion = LinearRegression()\n",
    "linear_regresion.fit(X_train, y_train)\n",
    "\n",
    "r2_3 = linear_regresion.score(X_test, y_test)\n",
    "\n",
    "print('El puntaje R^2 con adción de una caracteristica es:', r2_3)"
   ]
  },
  {
   "cell_type": "markdown",
   "metadata": {},
   "source": [
    "Se adciona el horario de la tarde"
   ]
  },
  {
   "cell_type": "code",
   "execution_count": 69,
   "metadata": {},
   "outputs": [],
   "source": [
    "#horario de la tarde\n",
    "df['hour_open2'] = np.where((df.index.hour >=14) & (df.index.hour <18),1,0)"
   ]
  },
  {
   "cell_type": "code",
   "execution_count": 70,
   "metadata": {},
   "outputs": [
    {
     "data": {
      "text/html": [
       "<div>\n",
       "<style scoped>\n",
       "    .dataframe tbody tr th:only-of-type {\n",
       "        vertical-align: middle;\n",
       "    }\n",
       "\n",
       "    .dataframe tbody tr th {\n",
       "        vertical-align: top;\n",
       "    }\n",
       "\n",
       "    .dataframe thead th {\n",
       "        text-align: right;\n",
       "    }\n",
       "</style>\n",
       "<table border=\"1\" class=\"dataframe\">\n",
       "  <thead>\n",
       "    <tr style=\"text-align: right;\">\n",
       "      <th></th>\n",
       "      <th>OAT (F)</th>\n",
       "      <th>Power (kW)</th>\n",
       "      <th>hour</th>\n",
       "      <th>hour_open1</th>\n",
       "      <th>hour_open2</th>\n",
       "    </tr>\n",
       "    <tr>\n",
       "      <th>Timestamp</th>\n",
       "      <th></th>\n",
       "      <th></th>\n",
       "      <th></th>\n",
       "      <th></th>\n",
       "      <th></th>\n",
       "    </tr>\n",
       "  </thead>\n",
       "  <tbody>\n",
       "    <tr>\n",
       "      <td>2010-01-01 01:15:00</td>\n",
       "      <td>51</td>\n",
       "      <td>165.1</td>\n",
       "      <td>1</td>\n",
       "      <td>0</td>\n",
       "      <td>0</td>\n",
       "    </tr>\n",
       "    <tr>\n",
       "      <td>2010-01-01 01:30:00</td>\n",
       "      <td>51</td>\n",
       "      <td>151.6</td>\n",
       "      <td>1</td>\n",
       "      <td>0</td>\n",
       "      <td>0</td>\n",
       "    </tr>\n",
       "    <tr>\n",
       "      <td>2010-01-01 01:45:00</td>\n",
       "      <td>51</td>\n",
       "      <td>146.9</td>\n",
       "      <td>1</td>\n",
       "      <td>0</td>\n",
       "      <td>0</td>\n",
       "    </tr>\n",
       "    <tr>\n",
       "      <td>2010-01-01 02:00:00</td>\n",
       "      <td>51</td>\n",
       "      <td>153.7</td>\n",
       "      <td>2</td>\n",
       "      <td>0</td>\n",
       "      <td>0</td>\n",
       "    </tr>\n",
       "    <tr>\n",
       "      <td>2010-01-01 02:15:00</td>\n",
       "      <td>51</td>\n",
       "      <td>153.8</td>\n",
       "      <td>2</td>\n",
       "      <td>0</td>\n",
       "      <td>0</td>\n",
       "    </tr>\n",
       "    <tr>\n",
       "      <td>...</td>\n",
       "      <td>...</td>\n",
       "      <td>...</td>\n",
       "      <td>...</td>\n",
       "      <td>...</td>\n",
       "      <td>...</td>\n",
       "    </tr>\n",
       "    <tr>\n",
       "      <td>2010-12-30 23:00:00</td>\n",
       "      <td>67</td>\n",
       "      <td>333.7</td>\n",
       "      <td>23</td>\n",
       "      <td>0</td>\n",
       "      <td>0</td>\n",
       "    </tr>\n",
       "    <tr>\n",
       "      <td>2010-12-30 23:15:00</td>\n",
       "      <td>68</td>\n",
       "      <td>221.0</td>\n",
       "      <td>23</td>\n",
       "      <td>0</td>\n",
       "      <td>0</td>\n",
       "    </tr>\n",
       "    <tr>\n",
       "      <td>2010-12-30 23:30:00</td>\n",
       "      <td>68</td>\n",
       "      <td>235.7</td>\n",
       "      <td>23</td>\n",
       "      <td>0</td>\n",
       "      <td>0</td>\n",
       "    </tr>\n",
       "    <tr>\n",
       "      <td>2010-12-30 23:45:00</td>\n",
       "      <td>68</td>\n",
       "      <td>227.2</td>\n",
       "      <td>23</td>\n",
       "      <td>0</td>\n",
       "      <td>0</td>\n",
       "    </tr>\n",
       "    <tr>\n",
       "      <td>2010-12-31 00:00:00</td>\n",
       "      <td>68</td>\n",
       "      <td>234.5</td>\n",
       "      <td>0</td>\n",
       "      <td>0</td>\n",
       "      <td>0</td>\n",
       "    </tr>\n",
       "  </tbody>\n",
       "</table>\n",
       "<p>174700 rows × 5 columns</p>\n",
       "</div>"
      ],
      "text/plain": [
       "                     OAT (F)  Power (kW)  hour  hour_open1  hour_open2\n",
       "Timestamp                                                             \n",
       "2010-01-01 01:15:00       51       165.1     1           0           0\n",
       "2010-01-01 01:30:00       51       151.6     1           0           0\n",
       "2010-01-01 01:45:00       51       146.9     1           0           0\n",
       "2010-01-01 02:00:00       51       153.7     2           0           0\n",
       "2010-01-01 02:15:00       51       153.8     2           0           0\n",
       "...                      ...         ...   ...         ...         ...\n",
       "2010-12-30 23:00:00       67       333.7    23           0           0\n",
       "2010-12-30 23:15:00       68       221.0    23           0           0\n",
       "2010-12-30 23:30:00       68       235.7    23           0           0\n",
       "2010-12-30 23:45:00       68       227.2    23           0           0\n",
       "2010-12-31 00:00:00       68       234.5     0           0           0\n",
       "\n",
       "[174700 rows x 5 columns]"
      ]
     },
     "execution_count": 70,
     "metadata": {},
     "output_type": "execute_result"
    }
   ],
   "source": [
    "df"
   ]
  },
  {
   "cell_type": "code",
   "execution_count": 71,
   "metadata": {},
   "outputs": [
    {
     "name": "stdout",
     "output_type": "stream",
     "text": [
      "El puntaje R^2 con adción de una caracteristica es: 0.5180355610420317\n"
     ]
    }
   ],
   "source": [
    "#regresion lineal agregando tres predictores\n",
    "X = pd.DataFrame(df[['OAT (F)','hour', 'hour_open1','hour_open2']])\n",
    "y = pd.DataFrame(df['Power (kW)'])\n",
    "\n",
    "X_train, X_test, y_train, y_test = train_test_split(X, y, test_size = 0.2, random_state = 42)\n",
    "\n",
    "linear_regresion = LinearRegression()\n",
    "linear_regresion.fit(X_train, y_train)\n",
    "\n",
    "r2_4 = linear_regresion.score(X_test, y_test)\n",
    "\n",
    "print('El puntaje R^2 con adción de una caracteristica es:', r2_4)\n",
    "#sube muy poco"
   ]
  },
  {
   "cell_type": "markdown",
   "metadata": {},
   "source": [
    "El score inicial fue de 0.2517947537402493 y el final fue de 0.5180355610420317 se logra incrementar dicho puntaje agragando predictores"
   ]
  }
 ],
 "metadata": {
  "kernelspec": {
   "display_name": "Python 3",
   "language": "python",
   "name": "python3"
  },
  "language_info": {
   "codemirror_mode": {
    "name": "ipython",
    "version": 3
   },
   "file_extension": ".py",
   "mimetype": "text/x-python",
   "name": "python",
   "nbconvert_exporter": "python",
   "pygments_lexer": "ipython3",
   "version": "3.7.4"
  }
 },
 "nbformat": 4,
 "nbformat_minor": 2
}
